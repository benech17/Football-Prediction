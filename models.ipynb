{
 "cells": [
  {
   "cell_type": "code",
   "execution_count": 316,
   "id": "4c1641b2",
   "metadata": {},
   "outputs": [],
   "source": [
    "import numpy as np \n",
    "import pandas as pd\n",
    "from sklearn.model_selection import train_test_split\n",
    "from sklearn.metrics import accuracy_score\n",
    "from sklearn.metrics import f1_score\n",
    "from sklearn.preprocessing import LabelEncoder\n",
    "from tensorflow.python.keras.utils import np_utils\n",
    "from tensorflow import keras \n",
    "from tensorflow.keras.models import Sequential\n",
    "from tensorflow.keras.layers import Dense, Flatten,  Dropout , Input, Activation, LayerNormalization\n"
   ]
  },
  {
   "cell_type": "code",
   "execution_count": 317,
   "id": "effacb8e",
   "metadata": {},
   "outputs": [],
   "source": [
    "data= pd.read_csv(r'results.csv')\n",
    "data = data.loc[:, ~data.columns.str.contains('^Unnamed')]\n",
    "data=data.fillna(0)"
   ]
  },
  {
   "cell_type": "code",
   "execution_count": 318,
   "id": "d5852cc0",
   "metadata": {},
   "outputs": [],
   "source": [
    "x = data[['Match_id', 'TotalMatch_id','Season', 'DateTime', 'HomeTeam', 'AwayTeam', 'Referee','DiffBudgets', 'Journée','HnbPoints', 'AnbPoints', 'Hrank', 'Arank', 'FTAG Mean', 'FTHG Mean', 'HTAG Mean', 'HTHG Mean', 'AR Mean', 'HR Mean', 'AY Mean', 'HY Mean',\n",
    "'AF Mean', 'HF Mean', 'AS Mean', 'HS Mean', 'AST Mean', 'HST Mean','AC Mean', 'HC Mean','A-3', 'H-3', 'A-2', 'H-2', 'A-1', 'H-1']]\n",
    "\n",
    "y=  data['FTR']"
   ]
  },
  {
   "cell_type": "code",
   "execution_count": 319,
   "id": "7d89b8f1",
   "metadata": {
    "scrolled": true
   },
   "outputs": [
    {
     "name": "stderr",
     "output_type": "stream",
     "text": [
      "<ipython-input-319-90c021d7f93c>:2: SettingWithCopyWarning: \n",
      "A value is trying to be set on a copy of a slice from a DataFrame.\n",
      "Try using .loc[row_indexer,col_indexer] = value instead\n",
      "\n",
      "See the caveats in the documentation: https://pandas.pydata.org/pandas-docs/stable/user_guide/indexing.html#returning-a-view-versus-a-copy\n",
      "  x['Season'] = le.fit_transform(x['Season'].astype(str))\n",
      "<ipython-input-319-90c021d7f93c>:3: SettingWithCopyWarning: \n",
      "A value is trying to be set on a copy of a slice from a DataFrame.\n",
      "Try using .loc[row_indexer,col_indexer] = value instead\n",
      "\n",
      "See the caveats in the documentation: https://pandas.pydata.org/pandas-docs/stable/user_guide/indexing.html#returning-a-view-versus-a-copy\n",
      "  x['DateTime'] = le.fit_transform(x['DateTime'].astype(str))\n",
      "<ipython-input-319-90c021d7f93c>:4: SettingWithCopyWarning: \n",
      "A value is trying to be set on a copy of a slice from a DataFrame.\n",
      "Try using .loc[row_indexer,col_indexer] = value instead\n",
      "\n",
      "See the caveats in the documentation: https://pandas.pydata.org/pandas-docs/stable/user_guide/indexing.html#returning-a-view-versus-a-copy\n",
      "  x['HomeTeam'] = le.fit_transform(x['HomeTeam'].astype(str))\n",
      "<ipython-input-319-90c021d7f93c>:5: SettingWithCopyWarning: \n",
      "A value is trying to be set on a copy of a slice from a DataFrame.\n",
      "Try using .loc[row_indexer,col_indexer] = value instead\n",
      "\n",
      "See the caveats in the documentation: https://pandas.pydata.org/pandas-docs/stable/user_guide/indexing.html#returning-a-view-versus-a-copy\n",
      "  x['AwayTeam'] = le.fit_transform(x['AwayTeam'].astype(str))\n",
      "<ipython-input-319-90c021d7f93c>:6: SettingWithCopyWarning: \n",
      "A value is trying to be set on a copy of a slice from a DataFrame.\n",
      "Try using .loc[row_indexer,col_indexer] = value instead\n",
      "\n",
      "See the caveats in the documentation: https://pandas.pydata.org/pandas-docs/stable/user_guide/indexing.html#returning-a-view-versus-a-copy\n",
      "  x['Referee'] = le.fit_transform(x['Referee'].astype(str))\n"
     ]
    },
    {
     "data": {
      "text/plain": [
       "(1368, 35)"
      ]
     },
     "execution_count": 319,
     "metadata": {},
     "output_type": "execute_result"
    }
   ],
   "source": [
    "le= LabelEncoder()\n",
    "x['Season'] = le.fit_transform(x['Season'].astype(str))\n",
    "x['DateTime'] = le.fit_transform(x['DateTime'].astype(str))\n",
    "x['HomeTeam'] = le.fit_transform(x['HomeTeam'].astype(str))\n",
    "x['AwayTeam'] = le.fit_transform(x['AwayTeam'].astype(str))\n",
    "x['Referee'] = le.fit_transform(x['Referee'].astype(str))\n",
    "y = le.fit_transform(y.astype(str))\n",
    "seed = 10\n",
    "test_size = 0.3\n",
    "x_train, x_test, y_train, y_test = train_test_split(x, y, test_size=test_size, random_state=seed)\n",
    "x_train, x_val, y_train, y_val = train_test_split(x_train, y_train, test_size=0.25, random_state= 8)\n",
    "x_test.shape"
   ]
  },
  {
   "cell_type": "code",
   "execution_count": 320,
   "id": "d32bb9df",
   "metadata": {},
   "outputs": [
    {
     "name": "stdout",
     "output_type": "stream",
     "text": [
      "(2394, 35)\n",
      "(2394, 3)\n",
      "(1368, 35)\n",
      "(1368, 3)\n"
     ]
    }
   ],
   "source": [
    "y_train =np_utils.to_categorical(y_train, 3)\n",
    "y_test = np_utils.to_categorical(y_test, 3)\n",
    "y_val = np_utils.to_categorical(y_val, 3)\n",
    "\n",
    "print(x_train.shape)\n",
    "print(y_train.shape)\n",
    "print(x_test.shape)\n",
    "print(y_test.shape)"
   ]
  },
  {
   "cell_type": "code",
   "execution_count": 321,
   "id": "311296e0",
   "metadata": {},
   "outputs": [],
   "source": [
    "score_f1_list=[]"
   ]
  },
  {
   "cell_type": "markdown",
   "id": "efd22716",
   "metadata": {},
   "source": [
    "## 1er Modèle : 4 relu + softmax"
   ]
  },
  {
   "cell_type": "code",
   "execution_count": 333,
   "id": "252fb691",
   "metadata": {},
   "outputs": [
    {
     "name": "stdout",
     "output_type": "stream",
     "text": [
      "Model: \"sequential_30\"\n",
      "_________________________________________________________________\n",
      " Layer (type)                Output Shape              Param #   \n",
      "=================================================================\n",
      " dense_113 (Dense)           (None, 100)               3600      \n",
      "                                                                 \n",
      " dense_114 (Dense)           (None, 30)                3030      \n",
      "                                                                 \n",
      " dense_115 (Dense)           (None, 20)                620       \n",
      "                                                                 \n",
      " dense_116 (Dense)           (None, 10)                210       \n",
      "                                                                 \n",
      " dense_117 (Dense)           (None, 3)                 33        \n",
      "                                                                 \n",
      "=================================================================\n",
      "Total params: 7,493\n",
      "Trainable params: 7,493\n",
      "Non-trainable params: 0\n",
      "_________________________________________________________________\n"
     ]
    }
   ],
   "source": [
    "model_1= Sequential()\n",
    "model_1.add(Dense(100, input_shape=(35,), activation='relu')) # input shape is (features,)\n",
    "model_1.add(Dense(30, activation='relu'))\n",
    "model_1.add(Dense(20, activation='relu'))\n",
    "model_1.add(Dense(10, activation='relu'))\n",
    "model_1.add(Dense(3, activation='softmax'))\n",
    "model_1.summary()\n",
    "\n",
    "model_1.compile(optimizer='rmsprop', \n",
    "              loss='categorical_crossentropy', \n",
    "              metrics=['accuracy'])\n"
   ]
  },
  {
   "cell_type": "code",
   "execution_count": 334,
   "id": "3befc550",
   "metadata": {},
   "outputs": [
    {
     "name": "stdout",
     "output_type": "stream",
     "text": [
      "Epoch 1/100\n",
      "38/38 [==============================] - 1s 15ms/step - loss: 39.8103 - accuracy: 0.3292 - val_loss: 7.0168 - val_accuracy: 0.3847\n",
      "Epoch 2/100\n",
      "38/38 [==============================] - 0s 1ms/step - loss: 11.4323 - accuracy: 0.3605 - val_loss: 5.7524 - val_accuracy: 0.4010\n",
      "Epoch 3/100\n",
      "38/38 [==============================] - 0s 1ms/step - loss: 9.0311 - accuracy: 0.3697 - val_loss: 22.7197 - val_accuracy: 0.2970\n",
      "Epoch 4/100\n",
      "38/38 [==============================] - 0s 1ms/step - loss: 9.0105 - accuracy: 0.3488 - val_loss: 6.4334 - val_accuracy: 0.4586\n",
      "Epoch 5/100\n",
      "38/38 [==============================] - 0s 1ms/step - loss: 7.2615 - accuracy: 0.3596 - val_loss: 8.1030 - val_accuracy: 0.2820\n",
      "Epoch 6/100\n",
      "38/38 [==============================] - 0s 1ms/step - loss: 6.6203 - accuracy: 0.3601 - val_loss: 4.9244 - val_accuracy: 0.2882\n",
      "Epoch 7/100\n",
      "38/38 [==============================] - 0s 1ms/step - loss: 6.4555 - accuracy: 0.3596 - val_loss: 6.9124 - val_accuracy: 0.2957\n",
      "Epoch 8/100\n",
      "38/38 [==============================] - 0s 1ms/step - loss: 5.3400 - accuracy: 0.3964 - val_loss: 9.8549 - val_accuracy: 0.4499\n",
      "Epoch 9/100\n",
      "38/38 [==============================] - 0s 1ms/step - loss: 4.6122 - accuracy: 0.3860 - val_loss: 1.7297 - val_accuracy: 0.2907\n",
      "Epoch 10/100\n",
      "38/38 [==============================] - 0s 1ms/step - loss: 1.8004 - accuracy: 0.3567 - val_loss: 1.8627 - val_accuracy: 0.4486\n",
      "Epoch 11/100\n",
      "38/38 [==============================] - 0s 1ms/step - loss: 1.8436 - accuracy: 0.3885 - val_loss: 2.3039 - val_accuracy: 0.2932\n",
      "Epoch 12/100\n",
      "38/38 [==============================] - 0s 1ms/step - loss: 1.4968 - accuracy: 0.3605 - val_loss: 2.8510 - val_accuracy: 0.3947\n",
      "Epoch 13/100\n",
      "38/38 [==============================] - 0s 1ms/step - loss: 1.4781 - accuracy: 0.3864 - val_loss: 1.2630 - val_accuracy: 0.2907\n",
      "Epoch 14/100\n",
      "38/38 [==============================] - 0s 1ms/step - loss: 1.3651 - accuracy: 0.3814 - val_loss: 1.2880 - val_accuracy: 0.3409\n",
      "Epoch 15/100\n",
      "38/38 [==============================] - 0s 1ms/step - loss: 1.2646 - accuracy: 0.3914 - val_loss: 1.2668 - val_accuracy: 0.4398\n",
      "Epoch 16/100\n",
      "38/38 [==============================] - 0s 1ms/step - loss: 1.2606 - accuracy: 0.4148 - val_loss: 1.1787 - val_accuracy: 0.4474\n",
      "Epoch 17/100\n",
      "38/38 [==============================] - 0s 1ms/step - loss: 1.1201 - accuracy: 0.4653 - val_loss: 2.2805 - val_accuracy: 0.2882\n",
      "Epoch 18/100\n",
      "38/38 [==============================] - 0s 1ms/step - loss: 1.1375 - accuracy: 0.4319 - val_loss: 1.0731 - val_accuracy: 0.4649\n",
      "Epoch 19/100\n",
      "38/38 [==============================] - 0s 1ms/step - loss: 1.1662 - accuracy: 0.4599 - val_loss: 1.0690 - val_accuracy: 0.4574\n",
      "Epoch 20/100\n",
      "38/38 [==============================] - 0s 1ms/step - loss: 1.0906 - accuracy: 0.4657 - val_loss: 1.0831 - val_accuracy: 0.4536\n",
      "Epoch 21/100\n",
      "38/38 [==============================] - 0s 1ms/step - loss: 1.0975 - accuracy: 0.4678 - val_loss: 1.0732 - val_accuracy: 0.4574\n",
      "Epoch 22/100\n",
      "38/38 [==============================] - 0s 1ms/step - loss: 1.0734 - accuracy: 0.4666 - val_loss: 1.0651 - val_accuracy: 0.4649\n",
      "Epoch 23/100\n",
      "38/38 [==============================] - 0s 1ms/step - loss: 1.0872 - accuracy: 0.4649 - val_loss: 1.0628 - val_accuracy: 0.4649\n",
      "Epoch 24/100\n",
      "38/38 [==============================] - 0s 1ms/step - loss: 1.0614 - accuracy: 0.4678 - val_loss: 1.0612 - val_accuracy: 0.4649\n",
      "Epoch 25/100\n",
      "38/38 [==============================] - 0s 1ms/step - loss: 1.0601 - accuracy: 0.4678 - val_loss: 1.0605 - val_accuracy: 0.4649\n",
      "Epoch 26/100\n",
      "38/38 [==============================] - 0s 1ms/step - loss: 1.0595 - accuracy: 0.4678 - val_loss: 1.0602 - val_accuracy: 0.4649\n",
      "Epoch 27/100\n",
      "38/38 [==============================] - 0s 1ms/step - loss: 1.0593 - accuracy: 0.4678 - val_loss: 1.0601 - val_accuracy: 0.4649\n",
      "Epoch 28/100\n",
      "38/38 [==============================] - 0s 1ms/step - loss: 1.0592 - accuracy: 0.4678 - val_loss: 1.0600 - val_accuracy: 0.4649\n",
      "Epoch 29/100\n",
      "38/38 [==============================] - 0s 2ms/step - loss: 1.0591 - accuracy: 0.4678 - val_loss: 1.0600 - val_accuracy: 0.4649\n",
      "Epoch 30/100\n",
      "38/38 [==============================] - 0s 2ms/step - loss: 1.0591 - accuracy: 0.4678 - val_loss: 1.0600 - val_accuracy: 0.4649\n",
      "Epoch 31/100\n",
      "38/38 [==============================] - 0s 1ms/step - loss: 1.0591 - accuracy: 0.4678 - val_loss: 1.0600 - val_accuracy: 0.4649\n",
      "Epoch 32/100\n",
      "38/38 [==============================] - 0s 1ms/step - loss: 1.0591 - accuracy: 0.4678 - val_loss: 1.0600 - val_accuracy: 0.4649\n",
      "Epoch 33/100\n",
      "38/38 [==============================] - 0s 1ms/step - loss: 1.0591 - accuracy: 0.4678 - val_loss: 1.0600 - val_accuracy: 0.4649\n",
      "Epoch 34/100\n",
      "38/38 [==============================] - 0s 2ms/step - loss: 1.0591 - accuracy: 0.4678 - val_loss: 1.0600 - val_accuracy: 0.4649\n",
      "Epoch 35/100\n",
      "38/38 [==============================] - 0s 3ms/step - loss: 1.0591 - accuracy: 0.4678 - val_loss: 1.0600 - val_accuracy: 0.4649\n",
      "Epoch 36/100\n",
      "38/38 [==============================] - 0s 7ms/step - loss: 1.0591 - accuracy: 0.4678 - val_loss: 1.0601 - val_accuracy: 0.4649\n",
      "Epoch 37/100\n",
      "38/38 [==============================] - 0s 2ms/step - loss: 1.0591 - accuracy: 0.4678 - val_loss: 1.0601 - val_accuracy: 0.4649\n",
      "Epoch 38/100\n",
      "38/38 [==============================] - 0s 1ms/step - loss: 1.0591 - accuracy: 0.4678 - val_loss: 1.0600 - val_accuracy: 0.4649\n",
      "Epoch 39/100\n",
      "38/38 [==============================] - 0s 1ms/step - loss: 1.0591 - accuracy: 0.4678 - val_loss: 1.0601 - val_accuracy: 0.4649\n",
      "Epoch 40/100\n",
      "38/38 [==============================] - 0s 1ms/step - loss: 1.0591 - accuracy: 0.4678 - val_loss: 1.0601 - val_accuracy: 0.4649\n",
      "Epoch 41/100\n",
      "38/38 [==============================] - 0s 1ms/step - loss: 1.0591 - accuracy: 0.4678 - val_loss: 1.0601 - val_accuracy: 0.4649\n",
      "Epoch 42/100\n",
      "38/38 [==============================] - 0s 1ms/step - loss: 1.0591 - accuracy: 0.4678 - val_loss: 1.0601 - val_accuracy: 0.4649\n",
      "Epoch 43/100\n",
      "38/38 [==============================] - 0s 1ms/step - loss: 1.0590 - accuracy: 0.4678 - val_loss: 1.0601 - val_accuracy: 0.4649\n",
      "Epoch 44/100\n",
      "38/38 [==============================] - 0s 1ms/step - loss: 1.0591 - accuracy: 0.4678 - val_loss: 1.0601 - val_accuracy: 0.4649\n",
      "Epoch 45/100\n",
      "38/38 [==============================] - 0s 1ms/step - loss: 1.0591 - accuracy: 0.4678 - val_loss: 1.0601 - val_accuracy: 0.4649\n",
      "Epoch 46/100\n",
      "38/38 [==============================] - 0s 1ms/step - loss: 1.0590 - accuracy: 0.4678 - val_loss: 1.0600 - val_accuracy: 0.4649\n",
      "Epoch 47/100\n",
      "38/38 [==============================] - 0s 1ms/step - loss: 1.0591 - accuracy: 0.4678 - val_loss: 1.0601 - val_accuracy: 0.4649\n",
      "Epoch 48/100\n",
      "38/38 [==============================] - 0s 1ms/step - loss: 1.0591 - accuracy: 0.4678 - val_loss: 1.0601 - val_accuracy: 0.4649\n",
      "Epoch 49/100\n",
      "38/38 [==============================] - 0s 1ms/step - loss: 1.0591 - accuracy: 0.4678 - val_loss: 1.0601 - val_accuracy: 0.4649\n",
      "Epoch 50/100\n",
      "38/38 [==============================] - 0s 1ms/step - loss: 1.0591 - accuracy: 0.4678 - val_loss: 1.0601 - val_accuracy: 0.4649\n",
      "Epoch 51/100\n",
      "38/38 [==============================] - 0s 1ms/step - loss: 1.0591 - accuracy: 0.4678 - val_loss: 1.0601 - val_accuracy: 0.4649\n",
      "Epoch 52/100\n",
      "38/38 [==============================] - 0s 1ms/step - loss: 1.0591 - accuracy: 0.4678 - val_loss: 1.0601 - val_accuracy: 0.4649\n",
      "Epoch 53/100\n",
      "38/38 [==============================] - 0s 1ms/step - loss: 1.0591 - accuracy: 0.4678 - val_loss: 1.0601 - val_accuracy: 0.4649\n",
      "Epoch 54/100\n",
      "38/38 [==============================] - 0s 1ms/step - loss: 1.0591 - accuracy: 0.4678 - val_loss: 1.0601 - val_accuracy: 0.4649\n",
      "Epoch 55/100\n",
      "38/38 [==============================] - 0s 1ms/step - loss: 1.0591 - accuracy: 0.4678 - val_loss: 1.0601 - val_accuracy: 0.4649\n",
      "Epoch 56/100\n",
      "38/38 [==============================] - 0s 1ms/step - loss: 1.0591 - accuracy: 0.4678 - val_loss: 1.0601 - val_accuracy: 0.4649\n",
      "Epoch 57/100\n",
      "38/38 [==============================] - 0s 1ms/step - loss: 1.0591 - accuracy: 0.4678 - val_loss: 1.0601 - val_accuracy: 0.4649\n",
      "Epoch 58/100\n",
      "38/38 [==============================] - 0s 1ms/step - loss: 1.0591 - accuracy: 0.4678 - val_loss: 1.0601 - val_accuracy: 0.4649\n",
      "Epoch 59/100\n",
      "38/38 [==============================] - 0s 1ms/step - loss: 1.0591 - accuracy: 0.4678 - val_loss: 1.0601 - val_accuracy: 0.4649\n",
      "Epoch 60/100\n",
      "38/38 [==============================] - 0s 1ms/step - loss: 1.0591 - accuracy: 0.4678 - val_loss: 1.0601 - val_accuracy: 0.4649\n",
      "Epoch 61/100\n",
      "38/38 [==============================] - 0s 1ms/step - loss: 1.0591 - accuracy: 0.4678 - val_loss: 1.0601 - val_accuracy: 0.4649\n",
      "Epoch 62/100\n",
      "38/38 [==============================] - 0s 1ms/step - loss: 1.0591 - accuracy: 0.4678 - val_loss: 1.0601 - val_accuracy: 0.4649\n",
      "Epoch 63/100\n",
      "38/38 [==============================] - 0s 1ms/step - loss: 1.0591 - accuracy: 0.4678 - val_loss: 1.0601 - val_accuracy: 0.4649\n",
      "Epoch 64/100\n",
      "38/38 [==============================] - 0s 1ms/step - loss: 1.0591 - accuracy: 0.4678 - val_loss: 1.0601 - val_accuracy: 0.4649\n",
      "Epoch 65/100\n",
      "38/38 [==============================] - 0s 1ms/step - loss: 1.0591 - accuracy: 0.4678 - val_loss: 1.0601 - val_accuracy: 0.4649\n",
      "Epoch 66/100\n",
      "38/38 [==============================] - 0s 1ms/step - loss: 1.0591 - accuracy: 0.4678 - val_loss: 1.0601 - val_accuracy: 0.4649\n",
      "Epoch 67/100\n",
      "38/38 [==============================] - 0s 1ms/step - loss: 1.0591 - accuracy: 0.4678 - val_loss: 1.0601 - val_accuracy: 0.4649\n",
      "Epoch 68/100\n",
      "38/38 [==============================] - 0s 1ms/step - loss: 1.0591 - accuracy: 0.4678 - val_loss: 1.0601 - val_accuracy: 0.4649\n",
      "Epoch 69/100\n",
      "38/38 [==============================] - 0s 1ms/step - loss: 1.0591 - accuracy: 0.4678 - val_loss: 1.0601 - val_accuracy: 0.4649\n",
      "Epoch 70/100\n",
      "38/38 [==============================] - 0s 1ms/step - loss: 1.0591 - accuracy: 0.4678 - val_loss: 1.0601 - val_accuracy: 0.4649\n",
      "Epoch 71/100\n",
      "38/38 [==============================] - 0s 1ms/step - loss: 1.0591 - accuracy: 0.4678 - val_loss: 1.0601 - val_accuracy: 0.4649\n",
      "Epoch 72/100\n",
      "38/38 [==============================] - 0s 1ms/step - loss: 1.0591 - accuracy: 0.4678 - val_loss: 1.0601 - val_accuracy: 0.4649\n",
      "Epoch 73/100\n",
      "38/38 [==============================] - 0s 1ms/step - loss: 1.0591 - accuracy: 0.4678 - val_loss: 1.0601 - val_accuracy: 0.4649\n",
      "Epoch 74/100\n",
      "38/38 [==============================] - 0s 1ms/step - loss: 1.0591 - accuracy: 0.4678 - val_loss: 1.0601 - val_accuracy: 0.4649\n",
      "Epoch 75/100\n",
      "38/38 [==============================] - 0s 1ms/step - loss: 1.0591 - accuracy: 0.4678 - val_loss: 1.0601 - val_accuracy: 0.4649\n",
      "Epoch 76/100\n",
      "38/38 [==============================] - 0s 1ms/step - loss: 1.0591 - accuracy: 0.4678 - val_loss: 1.0601 - val_accuracy: 0.4649\n",
      "Epoch 77/100\n",
      "38/38 [==============================] - 0s 1ms/step - loss: 1.0591 - accuracy: 0.4678 - val_loss: 1.0601 - val_accuracy: 0.4649\n",
      "Epoch 78/100\n",
      "38/38 [==============================] - 0s 1ms/step - loss: 1.0591 - accuracy: 0.4678 - val_loss: 1.0601 - val_accuracy: 0.4649\n",
      "Epoch 79/100\n",
      "38/38 [==============================] - 0s 1ms/step - loss: 1.0591 - accuracy: 0.4678 - val_loss: 1.0601 - val_accuracy: 0.4649\n",
      "Epoch 80/100\n",
      "38/38 [==============================] - 0s 1ms/step - loss: 1.0590 - accuracy: 0.4678 - val_loss: 1.0601 - val_accuracy: 0.4649\n",
      "Epoch 81/100\n",
      "38/38 [==============================] - 0s 1ms/step - loss: 1.0591 - accuracy: 0.4678 - val_loss: 1.0601 - val_accuracy: 0.4649\n",
      "Epoch 82/100\n",
      "38/38 [==============================] - 0s 1ms/step - loss: 1.0591 - accuracy: 0.4678 - val_loss: 1.0600 - val_accuracy: 0.4649\n",
      "Epoch 83/100\n",
      "38/38 [==============================] - 0s 1ms/step - loss: 1.0591 - accuracy: 0.4678 - val_loss: 1.0601 - val_accuracy: 0.4649\n",
      "Epoch 84/100\n",
      "38/38 [==============================] - 0s 1ms/step - loss: 1.0591 - accuracy: 0.4678 - val_loss: 1.0600 - val_accuracy: 0.4649\n",
      "Epoch 85/100\n",
      "38/38 [==============================] - 0s 1ms/step - loss: 1.0591 - accuracy: 0.4678 - val_loss: 1.0601 - val_accuracy: 0.4649\n",
      "Epoch 86/100\n",
      "38/38 [==============================] - 0s 1ms/step - loss: 1.0591 - accuracy: 0.4678 - val_loss: 1.0601 - val_accuracy: 0.4649\n",
      "Epoch 87/100\n",
      "38/38 [==============================] - 0s 1ms/step - loss: 1.0591 - accuracy: 0.4678 - val_loss: 1.0601 - val_accuracy: 0.4649\n",
      "Epoch 88/100\n",
      "38/38 [==============================] - 0s 1ms/step - loss: 1.0591 - accuracy: 0.4678 - val_loss: 1.0600 - val_accuracy: 0.4649\n",
      "Epoch 89/100\n",
      "38/38 [==============================] - 0s 1ms/step - loss: 1.0591 - accuracy: 0.4678 - val_loss: 1.0601 - val_accuracy: 0.4649\n",
      "Epoch 90/100\n",
      "38/38 [==============================] - 0s 1ms/step - loss: 1.0591 - accuracy: 0.4678 - val_loss: 1.0601 - val_accuracy: 0.4649\n",
      "Epoch 91/100\n",
      "38/38 [==============================] - 0s 1ms/step - loss: 1.0590 - accuracy: 0.4678 - val_loss: 1.0601 - val_accuracy: 0.4649\n",
      "Epoch 92/100\n",
      "38/38 [==============================] - 0s 1ms/step - loss: 1.0591 - accuracy: 0.4678 - val_loss: 1.0601 - val_accuracy: 0.4649\n",
      "Epoch 93/100\n",
      "38/38 [==============================] - 0s 1ms/step - loss: 1.0591 - accuracy: 0.4678 - val_loss: 1.0601 - val_accuracy: 0.4649\n",
      "Epoch 94/100\n",
      "38/38 [==============================] - 0s 1ms/step - loss: 1.0591 - accuracy: 0.4678 - val_loss: 1.0601 - val_accuracy: 0.4649\n",
      "Epoch 95/100\n",
      "38/38 [==============================] - 0s 1ms/step - loss: 1.0591 - accuracy: 0.4678 - val_loss: 1.0601 - val_accuracy: 0.4649\n",
      "Epoch 96/100\n",
      "38/38 [==============================] - 0s 1ms/step - loss: 1.0591 - accuracy: 0.4678 - val_loss: 1.0601 - val_accuracy: 0.4649\n",
      "Epoch 97/100\n",
      "38/38 [==============================] - 0s 1ms/step - loss: 1.0591 - accuracy: 0.4678 - val_loss: 1.0601 - val_accuracy: 0.4649\n",
      "Epoch 98/100\n",
      "38/38 [==============================] - 0s 1ms/step - loss: 1.0591 - accuracy: 0.4678 - val_loss: 1.0601 - val_accuracy: 0.4649\n",
      "Epoch 99/100\n",
      "38/38 [==============================] - 0s 1ms/step - loss: 1.0591 - accuracy: 0.4678 - val_loss: 1.0601 - val_accuracy: 0.4649\n",
      "Epoch 100/100\n",
      "38/38 [==============================] - 0s 1ms/step - loss: 1.0591 - accuracy: 0.4678 - val_loss: 1.0601 - val_accuracy: 0.4649\n",
      "INFO:tensorflow:Assets written to: ./model_1/assets\n"
     ]
    }
   ],
   "source": [
    "history_1=model_1.fit(x_train, y_train, epochs=100, batch_size=64, verbose=1, validation_data=(x_val, y_val))\n",
    "model_1.save((r'./model_1'))"
   ]
  },
  {
   "cell_type": "code",
   "execution_count": 335,
   "id": "00266f8e",
   "metadata": {},
   "outputs": [],
   "source": [
    "model_1= keras.models.load_model(r'./model_1')"
   ]
  },
  {
   "cell_type": "code",
   "execution_count": 336,
   "id": "7e58d484",
   "metadata": {},
   "outputs": [
    {
     "name": "stdout",
     "output_type": "stream",
     "text": [
      "43/43 [==============================] - 0s 427us/step\n",
      "The accuracy using the confusion matrix is 0.4473684210526316and the F1 score is 0.4473684210526316\n"
     ]
    }
   ],
   "source": [
    "import sklearn.metrics\n",
    "from sklearn.metrics import f1_score\n",
    "\n",
    "y_pred = model_1.predict(x_test)\n",
    "r = sklearn.metrics.confusion_matrix(np.argmax(y_test, axis=1) , np.argmax(y_pred, axis=1))\n",
    "r = np.flip(r)\n",
    "acc = (r[0][0] + r[-1][-1]) / np.sum(r)\n",
    "f1_Score = f1_score(np.argmax(y_test, axis=1), np.argmax(y_pred, axis=1),  average='micro')\n",
    "score_f1_list.append(f1_Score)\n",
    "print('The accuracy using the confusion matrix is '+str(acc) + 'and the F1 score is '+ str(f1_Score))"
   ]
  },
  {
   "cell_type": "code",
   "execution_count": 337,
   "id": "c546c9b8",
   "metadata": {},
   "outputs": [
    {
     "name": "stdout",
     "output_type": "stream",
     "text": [
      "Accuracy using evaluate method:  0.44736841320991516\n"
     ]
    }
   ],
   "source": [
    "score = model_1.evaluate(x_test, y_test, verbose=0)\n",
    "print(\"Accuracy using evaluate method: \", score[1])"
   ]
  },
  {
   "cell_type": "code",
   "execution_count": 338,
   "id": "c156e03b",
   "metadata": {},
   "outputs": [
    {
     "data": {
      "image/png": "[encoded data removed]",
      "text/plain": [
       "<Figure size 640x480 with 1 Axes>"
      ]
     },
     "metadata": {},
     "output_type": "display_data"
    }
   ],
   "source": [
    "import matplotlib.pyplot as plt\n",
    "training_loss = history_1.history['loss']\n",
    "test_loss = history_1.history['val_loss']\n",
    "\n",
    "# Create count of the number of epochs\n",
    "epoch_count = range(1, len(training_loss) + 1)\n",
    "\n",
    "# Visualize loss history\n",
    "fig=plt.figure(figsize=(8, 6), dpi= 80, facecolor='w', edgecolor='k')\n",
    "plt.plot(epoch_count, training_loss, 'r--')\n",
    "plt.plot(epoch_count, test_loss, 'b-')\n",
    "plt.legend(['Training Loss', 'Test Loss'])\n",
    "plt.xlabel('Epoch')\n",
    "plt.ylabel('Loss')\n",
    "plt.show();"
   ]
  },
  {
   "cell_type": "markdown",
   "id": "43d5fd3f",
   "metadata": {},
   "source": [
    "## Deuxième modèle : 1 relu + softmax\n",
    "\n"
   ]
  },
  {
   "cell_type": "code",
   "execution_count": 361,
   "id": "566cac9a",
   "metadata": {},
   "outputs": [
    {
     "name": "stdout",
     "output_type": "stream",
     "text": [
      "Model: \"sequential_34\"\n",
      "_________________________________________________________________\n",
      " Layer (type)                Output Shape              Param #   \n",
      "=================================================================\n",
      " dense_124 (Dense)           (None, 10)                360       \n",
      "                                                                 \n",
      " dense_125 (Dense)           (None, 3)                 33        \n",
      "                                                                 \n",
      "=================================================================\n",
      "Total params: 393\n",
      "Trainable params: 393\n",
      "Non-trainable params: 0\n",
      "_________________________________________________________________\n"
     ]
    }
   ],
   "source": [
    "model_2 = Sequential()\n",
    "model_2.add(Dense(10, input_shape=(35,), activation='relu')) # input shape is (features,)\n",
    "model_2.add(Dense(3, activation='softmax'))\n",
    "model_2.summary()\n",
    "\n",
    "# compile the model\n",
    "model_2.compile(optimizer='adam', \n",
    "              loss='categorical_crossentropy', # this is different instead of binary_crossentropy (for regular classification)\n",
    "              metrics=['accuracy'])\n",
    "# model.compile(optimizer='adam', "
   ]
  },
  {
   "cell_type": "code",
   "execution_count": 362,
   "id": "9ed66a1e",
   "metadata": {},
   "outputs": [
    {
     "name": "stdout",
     "output_type": "stream",
     "text": [
      "Epoch 1/100\n",
      "38/38 [==============================] - 0s 4ms/step - loss: 111.9939 - accuracy: 0.3956 - val_loss: 59.5010 - val_accuracy: 0.3672\n",
      "Epoch 2/100\n",
      "38/38 [==============================] - 0s 1ms/step - loss: 35.7922 - accuracy: 0.3759 - val_loss: 27.0819 - val_accuracy: 0.3546\n",
      "Epoch 3/100\n",
      "38/38 [==============================] - 0s 993us/step - loss: 24.7593 - accuracy: 0.3739 - val_loss: 22.4357 - val_accuracy: 0.3734\n",
      "Epoch 4/100\n",
      "38/38 [==============================] - 0s 1ms/step - loss: 19.9898 - accuracy: 0.3772 - val_loss: 18.2244 - val_accuracy: 0.3797\n",
      "Epoch 5/100\n",
      "38/38 [==============================] - 0s 989us/step - loss: 16.3636 - accuracy: 0.3947 - val_loss: 15.2031 - val_accuracy: 0.3972\n",
      "Epoch 6/100\n",
      "38/38 [==============================] - 0s 1ms/step - loss: 13.7469 - accuracy: 0.4064 - val_loss: 12.4573 - val_accuracy: 0.4173\n",
      "Epoch 7/100\n",
      "38/38 [==============================] - 0s 1ms/step - loss: 11.1160 - accuracy: 0.4256 - val_loss: 10.2416 - val_accuracy: 0.4160\n",
      "Epoch 8/100\n",
      "38/38 [==============================] - 0s 946us/step - loss: 9.1805 - accuracy: 0.4348 - val_loss: 8.7805 - val_accuracy: 0.4348\n",
      "Epoch 9/100\n",
      "38/38 [==============================] - 0s 982us/step - loss: 7.7659 - accuracy: 0.4541 - val_loss: 7.2193 - val_accuracy: 0.4812\n",
      "Epoch 10/100\n",
      "38/38 [==============================] - 0s 1ms/step - loss: 6.2267 - accuracy: 0.4649 - val_loss: 5.6616 - val_accuracy: 0.4524\n",
      "Epoch 11/100\n",
      "38/38 [==============================] - 0s 983us/step - loss: 5.2445 - accuracy: 0.4795 - val_loss: 5.0403 - val_accuracy: 0.4411\n",
      "Epoch 12/100\n",
      "38/38 [==============================] - 0s 1ms/step - loss: 4.5278 - accuracy: 0.4858 - val_loss: 4.2222 - val_accuracy: 0.4937\n",
      "Epoch 13/100\n",
      "38/38 [==============================] - 0s 1ms/step - loss: 4.0056 - accuracy: 0.4862 - val_loss: 3.6563 - val_accuracy: 0.4937\n",
      "Epoch 14/100\n",
      "38/38 [==============================] - 0s 951us/step - loss: 3.6905 - accuracy: 0.4854 - val_loss: 3.3582 - val_accuracy: 0.5013\n",
      "Epoch 15/100\n",
      "38/38 [==============================] - 0s 995us/step - loss: 3.4306 - accuracy: 0.4912 - val_loss: 3.2448 - val_accuracy: 0.5000\n",
      "Epoch 16/100\n",
      "38/38 [==============================] - 0s 1ms/step - loss: 3.2736 - accuracy: 0.4996 - val_loss: 3.1219 - val_accuracy: 0.5038\n",
      "Epoch 17/100\n",
      "38/38 [==============================] - 0s 967us/step - loss: 3.1471 - accuracy: 0.4962 - val_loss: 3.0538 - val_accuracy: 0.4837\n",
      "Epoch 18/100\n",
      "38/38 [==============================] - 0s 990us/step - loss: 3.1726 - accuracy: 0.4887 - val_loss: 3.0085 - val_accuracy: 0.4787\n",
      "Epoch 19/100\n",
      "38/38 [==============================] - 0s 1ms/step - loss: 2.9290 - accuracy: 0.5054 - val_loss: 3.1544 - val_accuracy: 0.4549\n",
      "Epoch 20/100\n",
      "38/38 [==============================] - 0s 965us/step - loss: 2.9828 - accuracy: 0.4979 - val_loss: 2.7576 - val_accuracy: 0.5125\n",
      "Epoch 21/100\n",
      "38/38 [==============================] - 0s 959us/step - loss: 2.8966 - accuracy: 0.4904 - val_loss: 3.5588 - val_accuracy: 0.4887\n",
      "Epoch 22/100\n",
      "38/38 [==============================] - 0s 1ms/step - loss: 3.0973 - accuracy: 0.4712 - val_loss: 2.6109 - val_accuracy: 0.4962\n",
      "Epoch 23/100\n",
      "38/38 [==============================] - 0s 977us/step - loss: 2.6584 - accuracy: 0.5038 - val_loss: 2.5728 - val_accuracy: 0.4900\n",
      "Epoch 24/100\n",
      "38/38 [==============================] - 0s 950us/step - loss: 2.6845 - accuracy: 0.4975 - val_loss: 2.7069 - val_accuracy: 0.4737\n",
      "Epoch 25/100\n",
      "38/38 [==============================] - 0s 969us/step - loss: 2.5627 - accuracy: 0.4979 - val_loss: 2.2822 - val_accuracy: 0.5163\n",
      "Epoch 26/100\n",
      "38/38 [==============================] - 0s 1ms/step - loss: 2.5221 - accuracy: 0.4950 - val_loss: 2.3842 - val_accuracy: 0.4812\n",
      "Epoch 27/100\n",
      "38/38 [==============================] - 0s 956us/step - loss: 2.3978 - accuracy: 0.4975 - val_loss: 2.1656 - val_accuracy: 0.5201\n",
      "Epoch 28/100\n",
      "38/38 [==============================] - 0s 1ms/step - loss: 2.3732 - accuracy: 0.5092 - val_loss: 2.3705 - val_accuracy: 0.4236\n",
      "Epoch 29/100\n",
      "38/38 [==============================] - 0s 1ms/step - loss: 2.3667 - accuracy: 0.5046 - val_loss: 2.4108 - val_accuracy: 0.4649\n",
      "Epoch 30/100\n",
      "38/38 [==============================] - 0s 942us/step - loss: 2.2205 - accuracy: 0.4996 - val_loss: 2.1241 - val_accuracy: 0.5251\n",
      "Epoch 31/100\n",
      "38/38 [==============================] - 0s 970us/step - loss: 2.1533 - accuracy: 0.5038 - val_loss: 1.9736 - val_accuracy: 0.5351\n",
      "Epoch 32/100\n",
      "38/38 [==============================] - 0s 982us/step - loss: 2.1148 - accuracy: 0.5046 - val_loss: 2.3414 - val_accuracy: 0.4586\n",
      "Epoch 33/100\n",
      "38/38 [==============================] - 0s 937us/step - loss: 2.0093 - accuracy: 0.5067 - val_loss: 1.9842 - val_accuracy: 0.4937\n",
      "Epoch 34/100\n",
      "38/38 [==============================] - 0s 946us/step - loss: 2.0040 - accuracy: 0.5092 - val_loss: 1.8538 - val_accuracy: 0.5201\n",
      "Epoch 35/100\n",
      "38/38 [==============================] - 0s 976us/step - loss: 1.9843 - accuracy: 0.5100 - val_loss: 2.0877 - val_accuracy: 0.4825\n",
      "Epoch 36/100\n",
      "38/38 [==============================] - 0s 986us/step - loss: 1.9926 - accuracy: 0.4954 - val_loss: 2.0209 - val_accuracy: 0.5351\n",
      "Epoch 37/100\n",
      "38/38 [==============================] - 0s 933us/step - loss: 1.9716 - accuracy: 0.5000 - val_loss: 1.8095 - val_accuracy: 0.5188\n",
      "Epoch 38/100\n",
      "38/38 [==============================] - 0s 968us/step - loss: 1.9184 - accuracy: 0.5063 - val_loss: 1.8960 - val_accuracy: 0.5301\n",
      "Epoch 39/100\n",
      "38/38 [==============================] - 0s 977us/step - loss: 2.0257 - accuracy: 0.4896 - val_loss: 1.9461 - val_accuracy: 0.4499\n",
      "Epoch 40/100\n",
      "38/38 [==============================] - 0s 958us/step - loss: 2.0548 - accuracy: 0.4699 - val_loss: 1.9450 - val_accuracy: 0.4624\n",
      "Epoch 41/100\n",
      "38/38 [==============================] - 0s 952us/step - loss: 1.9570 - accuracy: 0.4858 - val_loss: 1.7408 - val_accuracy: 0.5338\n",
      "Epoch 42/100\n",
      "38/38 [==============================] - 0s 967us/step - loss: 1.9997 - accuracy: 0.4754 - val_loss: 1.7632 - val_accuracy: 0.5138\n",
      "Epoch 43/100\n",
      "38/38 [==============================] - 0s 987us/step - loss: 1.8147 - accuracy: 0.5150 - val_loss: 1.7063 - val_accuracy: 0.5150\n",
      "Epoch 44/100\n",
      "38/38 [==============================] - 0s 955us/step - loss: 1.8177 - accuracy: 0.5054 - val_loss: 1.8515 - val_accuracy: 0.4361\n",
      "Epoch 45/100\n",
      "38/38 [==============================] - 0s 952us/step - loss: 1.8823 - accuracy: 0.4933 - val_loss: 1.9421 - val_accuracy: 0.5401\n",
      "Epoch 46/100\n",
      "38/38 [==============================] - 0s 970us/step - loss: 1.7455 - accuracy: 0.5050 - val_loss: 1.6031 - val_accuracy: 0.5063\n",
      "Epoch 47/100\n",
      "38/38 [==============================] - 0s 962us/step - loss: 1.7297 - accuracy: 0.5029 - val_loss: 1.7021 - val_accuracy: 0.5238\n",
      "Epoch 48/100\n",
      "38/38 [==============================] - 0s 947us/step - loss: 1.8547 - accuracy: 0.4933 - val_loss: 1.6644 - val_accuracy: 0.4612\n",
      "Epoch 49/100\n",
      "38/38 [==============================] - 0s 950us/step - loss: 1.7657 - accuracy: 0.5084 - val_loss: 1.6924 - val_accuracy: 0.4912\n",
      "Epoch 50/100\n",
      "38/38 [==============================] - 0s 950us/step - loss: 1.6918 - accuracy: 0.5075 - val_loss: 1.5143 - val_accuracy: 0.5238\n",
      "Epoch 51/100\n",
      "38/38 [==============================] - 0s 965us/step - loss: 1.7288 - accuracy: 0.4975 - val_loss: 2.5572 - val_accuracy: 0.3396\n",
      "Epoch 52/100\n",
      "38/38 [==============================] - 0s 951us/step - loss: 1.7907 - accuracy: 0.4833 - val_loss: 1.6091 - val_accuracy: 0.5125\n",
      "Epoch 53/100\n",
      "38/38 [==============================] - 0s 949us/step - loss: 1.6808 - accuracy: 0.5025 - val_loss: 1.5330 - val_accuracy: 0.5226\n",
      "Epoch 54/100\n",
      "38/38 [==============================] - 0s 940us/step - loss: 1.6032 - accuracy: 0.4942 - val_loss: 1.5408 - val_accuracy: 0.5125\n",
      "Epoch 55/100\n",
      "38/38 [==============================] - 0s 948us/step - loss: 1.7192 - accuracy: 0.4912 - val_loss: 1.9131 - val_accuracy: 0.3897\n",
      "Epoch 56/100\n",
      "38/38 [==============================] - 0s 933us/step - loss: 1.6695 - accuracy: 0.5100 - val_loss: 1.5357 - val_accuracy: 0.5000\n",
      "Epoch 57/100\n",
      "38/38 [==============================] - 0s 957us/step - loss: 1.5250 - accuracy: 0.5008 - val_loss: 1.6853 - val_accuracy: 0.5238\n",
      "Epoch 58/100\n",
      "38/38 [==============================] - 0s 948us/step - loss: 1.5802 - accuracy: 0.4954 - val_loss: 1.5494 - val_accuracy: 0.5050\n",
      "Epoch 59/100\n",
      "38/38 [==============================] - 0s 924us/step - loss: 1.5262 - accuracy: 0.4996 - val_loss: 1.3787 - val_accuracy: 0.4925\n",
      "Epoch 60/100\n",
      "38/38 [==============================] - 0s 929us/step - loss: 1.4775 - accuracy: 0.5138 - val_loss: 1.6172 - val_accuracy: 0.5376\n",
      "Epoch 61/100\n",
      "38/38 [==============================] - 0s 939us/step - loss: 1.5227 - accuracy: 0.5088 - val_loss: 1.4663 - val_accuracy: 0.5489\n",
      "Epoch 62/100\n",
      "38/38 [==============================] - 0s 951us/step - loss: 1.4783 - accuracy: 0.5163 - val_loss: 1.4024 - val_accuracy: 0.5251\n",
      "Epoch 63/100\n",
      "38/38 [==============================] - 0s 929us/step - loss: 1.6471 - accuracy: 0.4916 - val_loss: 1.6933 - val_accuracy: 0.4110\n",
      "Epoch 64/100\n",
      "38/38 [==============================] - 0s 954us/step - loss: 1.5039 - accuracy: 0.5042 - val_loss: 1.3217 - val_accuracy: 0.5150\n",
      "Epoch 65/100\n",
      "38/38 [==============================] - 0s 945us/step - loss: 1.4397 - accuracy: 0.5213 - val_loss: 1.3597 - val_accuracy: 0.5050\n",
      "Epoch 66/100\n",
      "38/38 [==============================] - 0s 935us/step - loss: 1.4529 - accuracy: 0.5050 - val_loss: 1.3799 - val_accuracy: 0.5489\n",
      "Epoch 67/100\n",
      "38/38 [==============================] - 0s 941us/step - loss: 1.5481 - accuracy: 0.4933 - val_loss: 1.4099 - val_accuracy: 0.4812\n",
      "Epoch 68/100\n",
      "38/38 [==============================] - 0s 933us/step - loss: 1.4054 - accuracy: 0.5196 - val_loss: 1.2720 - val_accuracy: 0.5226\n",
      "Epoch 69/100\n",
      "38/38 [==============================] - 0s 948us/step - loss: 1.4156 - accuracy: 0.5142 - val_loss: 1.3701 - val_accuracy: 0.5150\n",
      "Epoch 70/100\n",
      "38/38 [==============================] - 0s 929us/step - loss: 1.4467 - accuracy: 0.5134 - val_loss: 1.4569 - val_accuracy: 0.4837\n",
      "Epoch 71/100\n",
      "38/38 [==============================] - 0s 937us/step - loss: 1.4291 - accuracy: 0.5121 - val_loss: 1.3429 - val_accuracy: 0.5000\n",
      "Epoch 72/100\n",
      "38/38 [==============================] - 0s 912us/step - loss: 1.4412 - accuracy: 0.5213 - val_loss: 1.3279 - val_accuracy: 0.4962\n",
      "Epoch 73/100\n",
      "38/38 [==============================] - 0s 910us/step - loss: 1.4115 - accuracy: 0.5063 - val_loss: 1.2708 - val_accuracy: 0.5451\n",
      "Epoch 74/100\n",
      "38/38 [==============================] - 0s 892us/step - loss: 1.4804 - accuracy: 0.5125 - val_loss: 1.2510 - val_accuracy: 0.5414\n",
      "Epoch 75/100\n",
      "38/38 [==============================] - 0s 901us/step - loss: 1.3827 - accuracy: 0.5129 - val_loss: 1.3639 - val_accuracy: 0.5414\n",
      "Epoch 76/100\n",
      "38/38 [==============================] - 0s 914us/step - loss: 1.4007 - accuracy: 0.5100 - val_loss: 1.3488 - val_accuracy: 0.5251\n",
      "Epoch 77/100\n",
      "38/38 [==============================] - 0s 915us/step - loss: 1.4539 - accuracy: 0.4992 - val_loss: 1.3024 - val_accuracy: 0.5439\n",
      "Epoch 78/100\n",
      "38/38 [==============================] - 0s 927us/step - loss: 1.5131 - accuracy: 0.4958 - val_loss: 1.6007 - val_accuracy: 0.3985\n",
      "Epoch 79/100\n",
      "38/38 [==============================] - 0s 942us/step - loss: 1.4004 - accuracy: 0.5100 - val_loss: 1.2735 - val_accuracy: 0.5213\n",
      "Epoch 80/100\n",
      "38/38 [==============================] - 0s 951us/step - loss: 1.3664 - accuracy: 0.5117 - val_loss: 1.3952 - val_accuracy: 0.5113\n",
      "Epoch 81/100\n",
      "38/38 [==============================] - 0s 923us/step - loss: 1.3624 - accuracy: 0.5054 - val_loss: 1.2774 - val_accuracy: 0.5526\n",
      "Epoch 82/100\n",
      "38/38 [==============================] - 0s 940us/step - loss: 1.3693 - accuracy: 0.5213 - val_loss: 1.4142 - val_accuracy: 0.5063\n",
      "Epoch 83/100\n",
      "38/38 [==============================] - 0s 947us/step - loss: 1.4963 - accuracy: 0.4833 - val_loss: 1.4340 - val_accuracy: 0.4311\n",
      "Epoch 84/100\n",
      "38/38 [==============================] - 0s 954us/step - loss: 1.2884 - accuracy: 0.5272 - val_loss: 1.2159 - val_accuracy: 0.5476\n",
      "Epoch 85/100\n",
      "38/38 [==============================] - 0s 924us/step - loss: 1.3166 - accuracy: 0.5226 - val_loss: 1.2174 - val_accuracy: 0.5150\n",
      "Epoch 86/100\n",
      "38/38 [==============================] - 0s 914us/step - loss: 1.3160 - accuracy: 0.5213 - val_loss: 1.6154 - val_accuracy: 0.3910\n",
      "Epoch 87/100\n",
      "38/38 [==============================] - 0s 932us/step - loss: 1.3446 - accuracy: 0.5058 - val_loss: 1.3117 - val_accuracy: 0.5514\n",
      "Epoch 88/100\n",
      "38/38 [==============================] - 0s 947us/step - loss: 1.4612 - accuracy: 0.4733 - val_loss: 1.2516 - val_accuracy: 0.5526\n",
      "Epoch 89/100\n",
      "38/38 [==============================] - 0s 938us/step - loss: 1.3225 - accuracy: 0.5150 - val_loss: 1.2319 - val_accuracy: 0.5564\n",
      "Epoch 90/100\n",
      "38/38 [==============================] - 0s 946us/step - loss: 1.3346 - accuracy: 0.5155 - val_loss: 1.2434 - val_accuracy: 0.5489\n",
      "Epoch 91/100\n",
      "38/38 [==============================] - 0s 943us/step - loss: 1.4044 - accuracy: 0.4958 - val_loss: 1.4144 - val_accuracy: 0.5414\n",
      "Epoch 92/100\n",
      "38/38 [==============================] - 0s 924us/step - loss: 1.4220 - accuracy: 0.5071 - val_loss: 1.3623 - val_accuracy: 0.5238\n",
      "Epoch 93/100\n",
      "38/38 [==============================] - 0s 966us/step - loss: 1.3057 - accuracy: 0.5167 - val_loss: 1.3458 - val_accuracy: 0.5451\n",
      "Epoch 94/100\n",
      "38/38 [==============================] - 0s 934us/step - loss: 1.3134 - accuracy: 0.5100 - val_loss: 1.4050 - val_accuracy: 0.4900\n",
      "Epoch 95/100\n",
      "38/38 [==============================] - 0s 949us/step - loss: 1.3413 - accuracy: 0.5142 - val_loss: 1.1982 - val_accuracy: 0.5163\n",
      "Epoch 96/100\n",
      "38/38 [==============================] - 0s 1ms/step - loss: 1.2878 - accuracy: 0.5234 - val_loss: 1.2891 - val_accuracy: 0.5263\n",
      "Epoch 97/100\n",
      "38/38 [==============================] - 0s 947us/step - loss: 1.2710 - accuracy: 0.5230 - val_loss: 1.2394 - val_accuracy: 0.5489\n",
      "Epoch 98/100\n",
      "38/38 [==============================] - 0s 961us/step - loss: 1.3556 - accuracy: 0.4929 - val_loss: 1.3096 - val_accuracy: 0.5351\n",
      "Epoch 99/100\n",
      "38/38 [==============================] - 0s 960us/step - loss: 1.2467 - accuracy: 0.5259 - val_loss: 1.2338 - val_accuracy: 0.5414\n",
      "Epoch 100/100\n",
      "38/38 [==============================] - 0s 1ms/step - loss: 1.2677 - accuracy: 0.5230 - val_loss: 1.2735 - val_accuracy: 0.5426\n",
      "INFO:tensorflow:Assets written to: ./model_2/assets\n"
     ]
    }
   ],
   "source": [
    "history_2=model_2.fit(x_train, y_train, epochs=100, batch_size=64, verbose=1, validation_data=(x_val, y_val))\n",
    "model_2.save((r'./model_2'))"
   ]
  },
  {
   "cell_type": "code",
   "execution_count": 363,
   "id": "ace07ad6",
   "metadata": {},
   "outputs": [],
   "source": [
    "#model_2= keras.models.load_model(r'./model_2')"
   ]
  },
  {
   "cell_type": "code",
   "execution_count": 364,
   "id": "098a8879",
   "metadata": {},
   "outputs": [
    {
     "name": "stdout",
     "output_type": "stream",
     "text": [
      "43/43 [==============================] - 0s 385us/step\n",
      "The accuracy using the confusion matrix is 0.5058479532163743and the F1 score is 0.5307017543859649\n",
      "Accuracy using evaluate method:  0.530701756477356\n"
     ]
    }
   ],
   "source": [
    "y_pred = model_2.predict(x_test)\n",
    "r = sklearn.metrics.confusion_matrix(np.argmax(y_test, axis=1) , np.argmax(y_pred, axis=1))\n",
    "r = np.flip(r)\n",
    "acc = (r[0][0] + r[-1][-1]) / np.sum(r)\n",
    "f1_Score = f1_score(np.argmax(y_test, axis=1), np.argmax(y_pred, axis=1),  average='micro')\n",
    "print('The accuracy using the confusion matrix is '+str(acc) + 'and the F1 score is '+ str(f1_Score))\n",
    "score = model_2.evaluate(x_test, y_test, verbose=0)\n",
    "print(\"Accuracy using evaluate method: \", score[1])"
   ]
  },
  {
   "cell_type": "code",
   "execution_count": 365,
   "id": "2ba1f7d5",
   "metadata": {},
   "outputs": [
    {
     "data": {
      "image/png": "[encoded data removed]",
      "text/plain": [
       "<Figure size 640x480 with 1 Axes>"
      ]
     },
     "metadata": {},
     "output_type": "display_data"
    }
   ],
   "source": [
    "training_loss = history_2.history['loss']\n",
    "test_loss = history_2.history['val_loss']\n",
    "\n",
    "# Create count of the number of epochs\n",
    "epoch_count = range(1, len(training_loss) + 1)\n",
    "\n",
    "# Visualize loss history\n",
    "fig=plt.figure(figsize=(8, 6), dpi= 80, facecolor='w', edgecolor='k')\n",
    "plt.plot(epoch_count, training_loss, 'r--')\n",
    "plt.plot(epoch_count, test_loss, 'b-')\n",
    "plt.legend(['Training Loss', 'Test Loss'])\n",
    "plt.xlabel('Epoch')\n",
    "plt.ylabel('Loss')\n",
    "plt.show();"
   ]
  },
  {
   "cell_type": "markdown",
   "id": "1c8c122e",
   "metadata": {},
   "source": [
    "### Troisième modèle"
   ]
  },
  {
   "cell_type": "code",
   "execution_count": 230,
   "id": "a5e78d0e",
   "metadata": {},
   "outputs": [],
   "source": [
    "\n",
    "model_3 = Sequential()\n",
    "model_3.add(Dense(64, activation='relu', input_shape=(x_train.shape[1],)))\n",
    "model_3.add(LayerNormalization())\n",
    "model_3.add(Dropout(.3))\n",
    "model_3.add(Dense(32, activation='tanh'))\n",
    "model_3.add(Dropout(.2))\n",
    "model_3.add(Dense(16, activation='tanh'))\n",
    "model_1.add(Dropout(.2))\n",
    "model_3.add(Dense(3, activation='softmax'))"
   ]
  },
  {
   "cell_type": "code",
   "execution_count": 231,
   "id": "949c3aca",
   "metadata": {},
   "outputs": [],
   "source": [
    "#model_3.compile(loss = 'categorical_crossentropy', optimizer='rmsprop', metrics=['accuracy'])\n",
    "#history_3=model_3.fit(x_train, y_train, epochs=100, batch_size=64, verbose=1, validation_data=(x_val, y_val))\n",
    "#model_3.save((r'./model_3'))\n"
   ]
  },
  {
   "cell_type": "code",
   "execution_count": 232,
   "id": "711b3d91",
   "metadata": {},
   "outputs": [],
   "source": [
    "model_3= keras.models.load_model(r'./model_3')"
   ]
  },
  {
   "cell_type": "code",
   "execution_count": 233,
   "id": "e063554f",
   "metadata": {},
   "outputs": [
    {
     "name": "stdout",
     "output_type": "stream",
     "text": [
      "43/43 [==============================] - 0s 572us/step\n",
      "The accuracy using the confusion matrix is 0.5716374269005848and the F1 score is 0.577485380116959\n",
      "Accuracy using evaluate method:  0.5774853825569153\n"
     ]
    }
   ],
   "source": [
    "y_pred = model_3.predict(x_test)\n",
    "r = sklearn.metrics.confusion_matrix(np.argmax(y_test, axis=1) , np.argmax(y_pred, axis=1))\n",
    "r = np.flip(r)\n",
    "acc = (r[0][0] + r[-1][-1]) / np.sum(r)\n",
    "f1_Score = f1_score(np.argmax(y_test, axis=1), np.argmax(y_pred, axis=1),  average='micro')\n",
    "score_f1_list.append(f1_Score)\n",
    "print('The accuracy using the confusion matrix is '+str(acc) + 'and the F1 score is '+ str(f1_Score))\n",
    "score = model_3.evaluate(x_test, y_test, verbose=0)\n",
    "print(\"Accuracy using evaluate method: \", score[1])"
   ]
  },
  {
   "cell_type": "code",
   "execution_count": 234,
   "id": "5dc1f8d2",
   "metadata": {},
   "outputs": [
    {
     "data": {
      "image/png": "[encoded data removed]",
      "text/plain": [
       "<Figure size 640x480 with 1 Axes>"
      ]
     },
     "metadata": {},
     "output_type": "display_data"
    }
   ],
   "source": [
    "training_loss = history_3.history['loss']\n",
    "test_loss = history_3.history['val_loss']\n",
    "\n",
    "# Create count of the number of epochs\n",
    "epoch_count = range(1, len(training_loss) + 1)\n",
    "\n",
    "# Visualize loss history\n",
    "fig=plt.figure(figsize=(8, 6), dpi= 80, facecolor='w', edgecolor='k')\n",
    "plt.plot(epoch_count, training_loss, 'r--')\n",
    "plt.plot(epoch_count, test_loss, 'b-')\n",
    "plt.legend(['Training Loss', 'Test Loss'])\n",
    "plt.xlabel('Epoch')\n",
    "plt.ylabel('Loss')\n",
    "plt.show();"
   ]
  },
  {
   "cell_type": "markdown",
   "id": "4dfc8216",
   "metadata": {},
   "source": [
    "### Quatrième modèle"
   ]
  },
  {
   "cell_type": "code",
   "execution_count": 235,
   "id": "f91f6463",
   "metadata": {},
   "outputs": [
    {
     "name": "stdout",
     "output_type": "stream",
     "text": [
      "Model: \"sequential_20\"\n",
      "_________________________________________________________________\n",
      " Layer (type)                Output Shape              Param #   \n",
      "=================================================================\n",
      " dense_79 (Dense)            (None, 30)                1080      \n",
      "                                                                 \n",
      " dropout_27 (Dropout)        (None, 30)                0         \n",
      "                                                                 \n",
      " dense_80 (Dense)            (None, 20)                620       \n",
      "                                                                 \n",
      " dropout_28 (Dropout)        (None, 20)                0         \n",
      "                                                                 \n",
      " dense_81 (Dense)            (None, 10)                210       \n",
      "                                                                 \n",
      " dropout_29 (Dropout)        (None, 10)                0         \n",
      "                                                                 \n",
      " dense_82 (Dense)            (None, 3)                 33        \n",
      "                                                                 \n",
      "=================================================================\n",
      "Total params: 1,943\n",
      "Trainable params: 1,943\n",
      "Non-trainable params: 0\n",
      "_________________________________________________________________\n"
     ]
    }
   ],
   "source": [
    "model_4 = Sequential()\n",
    "model_4.add(Dense(30, activation='sigmoid', input_shape=(35,)))\n",
    "model_4.add(Dropout(.4))\n",
    "model_4.add(Dense(20, activation='sigmoid'))\n",
    "model_4.add(Dropout(.2))\n",
    "model_4.add(Dense(10, activation='sigmoid'))\n",
    "model_4.add(Dropout(.2))\n",
    "model_4.add(Dense(3, activation='softmax'))\n",
    "\n",
    "# Com_3piling the model\n",
    "model_4.compile(loss = 'categorical_crossentropy', optimizer='adam', metrics=['accuracy'])\n",
    "model_4.summary()"
   ]
  },
  {
   "cell_type": "code",
   "execution_count": 236,
   "id": "add11748",
   "metadata": {},
   "outputs": [],
   "source": [
    "#history_4 = model_4.fit(x_train, y_train, epochs=100, batch_size=64, verbose=1, validation_data=(x_val, y_val),shuffle=1)\n",
    "#model_4.save((r'./model_4'))\n"
   ]
  },
  {
   "cell_type": "code",
   "execution_count": 237,
   "id": "88d2e1b2",
   "metadata": {},
   "outputs": [],
   "source": [
    "model_4= keras.models.load_model(r'./model_4')"
   ]
  },
  {
   "cell_type": "code",
   "execution_count": 238,
   "id": "1c1f5167",
   "metadata": {},
   "outputs": [
    {
     "name": "stdout",
     "output_type": "stream",
     "text": [
      "43/43 [==============================] - 0s 425us/step\n",
      "The accuracy using the confusion matrix is 0.4473684210526316and the F1 score is 0.4473684210526316\n"
     ]
    }
   ],
   "source": [
    "y_pred = model_4.predict(x_test)\n",
    "r = sklearn.metrics.confusion_matrix(np.argmax(y_test, axis=1) , np.argmax(y_pred, axis=1))\n",
    "r = np.flip(r)\n",
    "acc = (r[0][0] + r[-1][-1]) / np.sum(r)\n",
    "f1_Score = f1_score(np.argmax(y_test, axis=1), np.argmax(y_pred, axis=1),  average='micro')\n",
    "score_f1_list.append(f1_Score)\n",
    "print('The accuracy using the confusion matrix is '+str(acc) + 'and the F1 score is '+ str(f1_Score))"
   ]
  },
  {
   "cell_type": "code",
   "execution_count": 239,
   "id": "b809160e",
   "metadata": {},
   "outputs": [
    {
     "name": "stdout",
     "output_type": "stream",
     "text": [
      "Accuracy using evaluate method:  0.44736841320991516\n"
     ]
    }
   ],
   "source": [
    "score = model_4.evaluate(x_test, y_test, verbose=0)\n",
    "print(\"Accuracy using evaluate method: \", score[1])"
   ]
  },
  {
   "cell_type": "code",
   "execution_count": 240,
   "id": "22ba0178",
   "metadata": {
    "scrolled": false
   },
   "outputs": [
    {
     "data": {
      "image/png": "[encoded data removed]",
      "text/plain": [
       "<Figure size 640x480 with 1 Axes>"
      ]
     },
     "metadata": {},
     "output_type": "display_data"
    }
   ],
   "source": [
    "training_loss = history_4.history['loss']\n",
    "test_loss = history_4.history['val_loss']\n",
    "\n",
    "# Create count of the number of epochs\n",
    "epoch_count = range(1, len(training_loss) + 1)\n",
    "\n",
    "# Visualize loss history\n",
    "fig=plt.figure(figsize=(8, 6), dpi= 80, facecolor='w', edgecolor='k')\n",
    "plt.plot(epoch_count, training_loss, 'r--')\n",
    "plt.plot(epoch_count, test_loss, 'b-')\n",
    "plt.legend(['Training Loss', 'Test Loss'])\n",
    "plt.xlabel('Epoch')\n",
    "plt.ylabel('Loss')\n",
    "plt.show();"
   ]
  },
  {
   "cell_type": "code",
   "execution_count": 241,
   "id": "91aefe97",
   "metadata": {},
   "outputs": [
    {
     "data": {
      "text/plain": [
       "[0.5504385964912281,\n",
       " 0.4195906432748538,\n",
       " 0.577485380116959,\n",
       " 0.4473684210526316,\n",
       " 0.33]"
      ]
     },
     "execution_count": 241,
     "metadata": {},
     "output_type": "execute_result"
    }
   ],
   "source": [
    "score_f1_list.append(0.33)\n",
    "score_f1_list"
   ]
  },
  {
   "cell_type": "code",
   "execution_count": 244,
   "id": "f5760856",
   "metadata": {},
   "outputs": [
    {
     "data": {
      "image/png": "[encoded data removed]",
      "text/plain": [
       "<Figure size 432x288 with 1 Axes>"
      ]
     },
     "metadata": {
      "needs_background": "light"
     },
     "output_type": "display_data"
    }
   ],
   "source": [
    "import matplotlib.pyplot as plt\n",
    "import numpy as np\n",
    "\n",
    "model_f1 = ('Model 1', 'Model 2', 'Model 3', 'Model 4', 'Aléatoire')\n",
    "y_pos = np.arange(len(model_f1))\n",
    "plt.bar(y_pos,score_f1_list)\n",
    "plt.xticks(y_pos, model_f1)\n",
    "\n",
    "plt.xlabel(\"model\")\n",
    "plt.ylabel(\"F1-score\")\n",
    "plt.title(\"Comparaison des F1-score entre les différents modèles et l'aléatoire\",fontsize=15)\n",
    "\n",
    "plt.show();"
   ]
  },
  {
   "cell_type": "markdown",
   "id": "da940533",
   "metadata": {},
   "source": [
    "# Autre approche : Machine Learning et problème de regression "
   ]
  },
  {
   "cell_type": "markdown",
   "id": "14944287",
   "metadata": {},
   "source": [
    "##  XGBoost model"
   ]
  },
  {
   "cell_type": "code",
   "execution_count": 125,
   "id": "beaa8207",
   "metadata": {},
   "outputs": [],
   "source": [
    "import xgboost as xgb\n",
    "from xgboost import XGBClassifier\n",
    "\n",
    "modelXg = XGBClassifier()\n",
    "set_eval = [(x_train, y_train), (x_test, y_test)]\n",
    "modelXg.fit(x_train, y_train, eval_metric=[\"error\", \"logloss\"], eval_set=set_eval, verbose=False)\n",
    "y_pred = modelXg.predict(x_test)\n",
    "predictions = [np.round(value) for value in y_pred]"
   ]
  },
  {
   "cell_type": "code",
   "execution_count": 126,
   "id": "aef78bd7",
   "metadata": {},
   "outputs": [
    {
     "name": "stdout",
     "output_type": "stream",
     "text": [
      "Accuracy: 44.96%\n"
     ]
    }
   ],
   "source": [
    "accuracy = accuracy_score(y_test, predictions)\n",
    "print(\"Accuracy: %.2f%%\" % (accuracy * 100.0))\n",
    "\n",
    "results = modelXg.evals_result()\n",
    "epochs = len(results[\"validation_0\"][\"error\"])\n",
    "x_axis = range(0, epochs)"
   ]
  },
  {
   "cell_type": "code",
   "execution_count": 127,
   "id": "9e36b5e5",
   "metadata": {},
   "outputs": [
    {
     "data": {
      "image/png": "[encoded data removed]",
      "text/plain": [
       "<Figure size 576x360 with 1 Axes>"
      ]
     },
     "metadata": {
      "needs_background": "light"
     },
     "output_type": "display_data"
    }
   ],
   "source": [
    "fig, ax = plt.subplots(figsize=(8,5))\n",
    "ax.plot(x_axis, results[\"validation_0\"][\"error\"], label=\"Train\")\n",
    "ax.plot(x_axis, results[\"validation_1\"][\"error\"], label=\"Test\")\n",
    "ax.legend()\n",
    "plt.ylabel(\"Classification Error\")\n",
    "plt.title(\"XGBoost Classification Error\")\n",
    "plt.show()\n"
   ]
  },
  {
   "cell_type": "markdown",
   "id": "dc054ca5",
   "metadata": {},
   "source": [
    "## Linear Regression:"
   ]
  },
  {
   "cell_type": "code",
   "execution_count": 128,
   "id": "452818bf",
   "metadata": {},
   "outputs": [],
   "source": [
    "from sklearn.preprocessing import MinMaxScaler\n",
    "from sklearn.linear_model import LinearRegression\n",
    "from sklearn.neighbors import KNeighborsRegressor\n",
    "from sklearn.tree import DecisionTreeRegressor\n",
    "from sklearn.svm import SVR\n",
    "from sklearn.metrics import mean_absolute_error"
   ]
  },
  {
   "cell_type": "code",
   "execution_count": 129,
   "id": "404a1d02",
   "metadata": {},
   "outputs": [],
   "source": [
    "yDiffBut= data['Diff But']"
   ]
  },
  {
   "cell_type": "code",
   "execution_count": 130,
   "id": "ad7930da",
   "metadata": {},
   "outputs": [],
   "source": [
    "# Rescale the data\n",
    "scaler = MinMaxScaler(feature_range=(0,1))\n",
    "rescaledX = scaler.fit_transform(x)\n",
    "\n",
    "# Convert X back to a Pandas DataFrame, for convenience\n",
    "x = pd.DataFrame(rescaledX, index=x.index, columns=x.columns)"
   ]
  },
  {
   "cell_type": "code",
   "execution_count": 131,
   "id": "ebc8bdf9",
   "metadata": {},
   "outputs": [],
   "source": [
    "test_size = 0.33\n",
    "seed = 1\n",
    "x_train, x_test, yDiffBut_train, yDiffBut_test = train_test_split(x, yDiffBut, test_size=test_size, random_state=seed)"
   ]
  },
  {
   "cell_type": "code",
   "execution_count": 132,
   "id": "f91540a9",
   "metadata": {},
   "outputs": [],
   "source": [
    "models = [LinearRegression(), KNeighborsRegressor(), SVR()]"
   ]
  },
  {
   "cell_type": "code",
   "execution_count": 133,
   "id": "45cc8cf0",
   "metadata": {},
   "outputs": [
    {
     "name": "stdout",
     "output_type": "stream",
     "text": [
      "LinearRegression 1.1518862169404702\n",
      "KNeighborsRegressor 1.025139116202946\n",
      "SVR 1.1026166696649984\n"
     ]
    }
   ],
   "source": [
    "for regModel in models:\n",
    "    regModel.fit(x_train, yDiffBut_train)\n",
    "    predictions = regModel.predict(x_train)\n",
    "    print(type(regModel).__name__, mean_absolute_error(yDiffBut_train, predictions))"
   ]
  },
  {
   "cell_type": "code",
   "execution_count": 134,
   "id": "eec61c16",
   "metadata": {},
   "outputs": [
    {
     "name": "stdout",
     "output_type": "stream",
     "text": [
      "LinearRegression 1.1644352839757084\n",
      "KNeighborsRegressor 1.3035215946843854\n",
      "SVR 1.1547456360221828\n"
     ]
    }
   ],
   "source": [
    "for regModel in models:\n",
    "    predictions = regModel.predict(x_test)\n",
    "    print(type(regModel).__name__, mean_absolute_error(yDiffBut_test, predictions))"
   ]
  },
  {
   "cell_type": "code",
   "execution_count": 135,
   "id": "64450e38",
   "metadata": {},
   "outputs": [],
   "source": [
    "bestModelReg= models[2]"
   ]
  },
  {
   "cell_type": "code",
   "execution_count": 136,
   "id": "2d03797c",
   "metadata": {},
   "outputs": [],
   "source": [
    "# regPredic = bestModelReg.predict(x_test)\n",
    "# regError = yDiffBut_test - predictions"
   ]
  },
  {
   "cell_type": "code",
   "execution_count": 137,
   "id": "a2216075",
   "metadata": {},
   "outputs": [
    {
     "data": {
      "text/plain": [
       "0.306294011247065"
      ]
     },
     "execution_count": 137,
     "metadata": {},
     "output_type": "execute_result"
    }
   ],
   "source": [
    "bestModelReg.score(x_test, yDiffBut_test, sample_weight=None)"
   ]
  }
 ],
 "metadata": {
  "kernelspec": {
   "display_name": "Python 3",
   "language": "python",
   "name": "python3"
  },
  "language_info": {
   "codemirror_mode": {
    "name": "ipython",
    "version": 3
   },
   "file_extension": ".py",
   "mimetype": "text/x-python",
   "name": "python",
   "nbconvert_exporter": "python",
   "pygments_lexer": "ipython3",
   "version": "3.9.12"
  }
 },
 "nbformat": 4,
 "nbformat_minor": 5
}
